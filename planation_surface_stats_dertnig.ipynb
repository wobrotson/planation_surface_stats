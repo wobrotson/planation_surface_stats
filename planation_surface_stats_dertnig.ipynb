{
 "cells": [
  {
   "cell_type": "markdown",
   "metadata": {},
   "source": [
    "plot area, elevation and slope of planation surfaces in the eastern alps"
   ]
  },
  {
   "cell_type": "code",
   "execution_count": 35,
   "metadata": {},
   "outputs": [],
   "source": [
    "import pandas as pd\n",
    "import numpy as np\n",
    "import math\n",
    "\n",
    "# load data from csv files\n",
    "# dertnig et al, 2017, kalkspitze alps\n",
    "df1 = pd.read_csv('dertnig_high.csv', header=0)\n",
    "df2 = pd.read_csv('dertnig_intermediate.csv', header=0)\n",
    "df3 = pd.read_csv('dertnig_low.csv', header=0)\n",
    "\n",
    "# rename columns with 10m_* to lidar*\n",
    "df1.rename(columns={'10m_mean':'lidar_mean','10m_stdev':'lidar_stde','10m_min':'lidar_min','10m_max':'lidar_max'},inplace=True)\n",
    "df2.rename(columns={'10m_mean':'lidar_mean','10m_stdev':'lidar_stde','10m_min':'lidar_min','10m_max':'lidar_max'},inplace=True)\n",
    "df3.rename(columns={'10m_mean':'lidar_mean','10m_stdev':'lidar_stde','10m_min':'lidar_min','10m_max':'lidar_max'},inplace=True)\n",
    "\n",
    "# convert area to km2 from m2\n",
    "df1.area = (df1.area)/(1000000)\n",
    "df2.area = (df2.area)/(1000000)\n",
    "df3.area = (df3.area)/(1000000)\n"
   ]
  },
  {
   "cell_type": "markdown",
   "metadata": {},
   "source": [
    "|column|          variable          |     handle name     |\n",
    "|------|----------------------------|---------------------|\n",
    "|  0   |         polygon id         |         id          |\n",
    "|  1   |       area in km sq.       |        area         |\n",
    "|  2   |       mean elev, srtm      |     srtm_mean       |\n",
    "|  3   |    std. dev. elev, srtm    |     srtm_stdev      |\n",
    "|  4   |       min. elev, srtm      |      srtm_min       |\n",
    "|  5   |       max. elev, srtm      |      srtm_max       |\n",
    "|  6   |    mean elev, 10m lidar    |     lidar_mean      |\n",
    "|  7   | std. dev. elev, 10m lidar  |     lidar_stde      |\n",
    "|  8   |    min. elev, 10m lidar    |     lidar_min       |\n",
    "|  9   |    max. elev, 10m lidar    |     lidar_max       |\n",
    "|  10  |    mean slope, 10m lidar   |     slope_mean      |\n",
    "|  11  | std. dev. slope, 10m lidar |     slope_stde      |\n",
    "|  12  |    min. slope, 10m lidar   |     slope_min       |\n",
    "|  13  |    max. slope, 10m lidar   |     slope_max       |"
   ]
  },
  {
   "cell_type": "code",
   "execution_count": 36,
   "metadata": {},
   "outputs": [
    {
     "data": {
      "text/html": [
       "<div>\n",
       "<style scoped>\n",
       "    .dataframe tbody tr th:only-of-type {\n",
       "        vertical-align: middle;\n",
       "    }\n",
       "\n",
       "    .dataframe tbody tr th {\n",
       "        vertical-align: top;\n",
       "    }\n",
       "\n",
       "    .dataframe thead th {\n",
       "        text-align: right;\n",
       "    }\n",
       "</style>\n",
       "<table border=\"1\" class=\"dataframe\">\n",
       "  <thead>\n",
       "    <tr style=\"text-align: right;\">\n",
       "      <th></th>\n",
       "      <th>id</th>\n",
       "      <th>area</th>\n",
       "      <th>srtm_mean</th>\n",
       "      <th>srtm_stdev</th>\n",
       "      <th>srtm_min</th>\n",
       "      <th>srtm_max</th>\n",
       "      <th>lidar_mean</th>\n",
       "      <th>lidar_stde</th>\n",
       "      <th>lidar_min</th>\n",
       "      <th>lidar_max</th>\n",
       "      <th>slope_mean</th>\n",
       "      <th>slope_stde</th>\n",
       "      <th>slope_min</th>\n",
       "      <th>slope_max</th>\n",
       "    </tr>\n",
       "  </thead>\n",
       "  <tbody>\n",
       "    <tr>\n",
       "      <th>0</th>\n",
       "      <td>1</td>\n",
       "      <td>0.871309</td>\n",
       "      <td>2277.979089</td>\n",
       "      <td>270.455823</td>\n",
       "      <td>0.0</td>\n",
       "      <td>2467.0</td>\n",
       "      <td>2313.417007</td>\n",
       "      <td>82.296582</td>\n",
       "      <td>2166.324707</td>\n",
       "      <td>2504.042969</td>\n",
       "      <td>22.029696</td>\n",
       "      <td>12.202954</td>\n",
       "      <td>0.428213</td>\n",
       "      <td>71.872307</td>\n",
       "    </tr>\n",
       "    <tr>\n",
       "      <th>1</th>\n",
       "      <td>2</td>\n",
       "      <td>0.175681</td>\n",
       "      <td>2135.801498</td>\n",
       "      <td>40.662053</td>\n",
       "      <td>2077.0</td>\n",
       "      <td>2266.0</td>\n",
       "      <td>2140.040496</td>\n",
       "      <td>42.365841</td>\n",
       "      <td>2076.490234</td>\n",
       "      <td>2278.033203</td>\n",
       "      <td>23.682941</td>\n",
       "      <td>11.778531</td>\n",
       "      <td>0.315881</td>\n",
       "      <td>59.167454</td>\n",
       "    </tr>\n",
       "    <tr>\n",
       "      <th>2</th>\n",
       "      <td>3</td>\n",
       "      <td>0.821891</td>\n",
       "      <td>1989.460683</td>\n",
       "      <td>407.061590</td>\n",
       "      <td>0.0</td>\n",
       "      <td>2333.0</td>\n",
       "      <td>2077.512541</td>\n",
       "      <td>99.176830</td>\n",
       "      <td>1867.128174</td>\n",
       "      <td>2356.693848</td>\n",
       "      <td>26.498500</td>\n",
       "      <td>12.037156</td>\n",
       "      <td>0.194537</td>\n",
       "      <td>72.767410</td>\n",
       "    </tr>\n",
       "    <tr>\n",
       "      <th>3</th>\n",
       "      <td>4</td>\n",
       "      <td>0.248383</td>\n",
       "      <td>2260.241470</td>\n",
       "      <td>245.998100</td>\n",
       "      <td>0.0</td>\n",
       "      <td>2487.0</td>\n",
       "      <td>2288.523391</td>\n",
       "      <td>84.211440</td>\n",
       "      <td>2184.033203</td>\n",
       "      <td>2504.429199</td>\n",
       "      <td>28.082177</td>\n",
       "      <td>11.315401</td>\n",
       "      <td>0.638377</td>\n",
       "      <td>73.401840</td>\n",
       "    </tr>\n",
       "    <tr>\n",
       "      <th>4</th>\n",
       "      <td>5</td>\n",
       "      <td>0.644691</td>\n",
       "      <td>1763.690381</td>\n",
       "      <td>849.704201</td>\n",
       "      <td>0.0</td>\n",
       "      <td>2470.0</td>\n",
       "      <td>2197.203558</td>\n",
       "      <td>120.404127</td>\n",
       "      <td>1991.899048</td>\n",
       "      <td>2498.456299</td>\n",
       "      <td>35.282224</td>\n",
       "      <td>13.696657</td>\n",
       "      <td>0.386992</td>\n",
       "      <td>77.728111</td>\n",
       "    </tr>\n",
       "    <tr>\n",
       "      <th>5</th>\n",
       "      <td>6</td>\n",
       "      <td>0.563936</td>\n",
       "      <td>1902.207135</td>\n",
       "      <td>781.961352</td>\n",
       "      <td>0.0</td>\n",
       "      <td>2361.0</td>\n",
       "      <td>2223.198550</td>\n",
       "      <td>72.905938</td>\n",
       "      <td>2006.722900</td>\n",
       "      <td>2380.201172</td>\n",
       "      <td>36.422111</td>\n",
       "      <td>14.509159</td>\n",
       "      <td>0.650331</td>\n",
       "      <td>78.509346</td>\n",
       "    </tr>\n",
       "    <tr>\n",
       "      <th>6</th>\n",
       "      <td>7</td>\n",
       "      <td>0.161421</td>\n",
       "      <td>2134.642276</td>\n",
       "      <td>71.981042</td>\n",
       "      <td>2037.0</td>\n",
       "      <td>2302.0</td>\n",
       "      <td>2141.514104</td>\n",
       "      <td>81.062462</td>\n",
       "      <td>2042.756836</td>\n",
       "      <td>2345.838623</td>\n",
       "      <td>34.551187</td>\n",
       "      <td>15.080671</td>\n",
       "      <td>0.634346</td>\n",
       "      <td>69.962334</td>\n",
       "    </tr>\n",
       "    <tr>\n",
       "      <th>7</th>\n",
       "      <td>8</td>\n",
       "      <td>1.035343</td>\n",
       "      <td>1707.515341</td>\n",
       "      <td>997.615452</td>\n",
       "      <td>0.0</td>\n",
       "      <td>2490.0</td>\n",
       "      <td>2289.244971</td>\n",
       "      <td>109.049490</td>\n",
       "      <td>2036.571777</td>\n",
       "      <td>2524.306396</td>\n",
       "      <td>38.570968</td>\n",
       "      <td>12.066723</td>\n",
       "      <td>0.456924</td>\n",
       "      <td>74.214958</td>\n",
       "    </tr>\n",
       "    <tr>\n",
       "      <th>8</th>\n",
       "      <td>9</td>\n",
       "      <td>0.421770</td>\n",
       "      <td>2156.589587</td>\n",
       "      <td>604.056918</td>\n",
       "      <td>0.0</td>\n",
       "      <td>2497.0</td>\n",
       "      <td>2332.729571</td>\n",
       "      <td>70.583675</td>\n",
       "      <td>2180.495361</td>\n",
       "      <td>2522.171875</td>\n",
       "      <td>38.471728</td>\n",
       "      <td>11.450711</td>\n",
       "      <td>1.160249</td>\n",
       "      <td>71.810242</td>\n",
       "    </tr>\n",
       "    <tr>\n",
       "      <th>9</th>\n",
       "      <td>10</td>\n",
       "      <td>0.345560</td>\n",
       "      <td>2243.804143</td>\n",
       "      <td>45.462711</td>\n",
       "      <td>2165.0</td>\n",
       "      <td>2369.0</td>\n",
       "      <td>2246.550173</td>\n",
       "      <td>48.058105</td>\n",
       "      <td>2151.812012</td>\n",
       "      <td>2387.518066</td>\n",
       "      <td>31.486673</td>\n",
       "      <td>13.703225</td>\n",
       "      <td>0.064789</td>\n",
       "      <td>72.711533</td>\n",
       "    </tr>\n",
       "  </tbody>\n",
       "</table>\n",
       "</div>"
      ],
      "text/plain": [
       "   id      area    srtm_mean  srtm_stdev  srtm_min  srtm_max   lidar_mean  \\\n",
       "0   1  0.871309  2277.979089  270.455823       0.0    2467.0  2313.417007   \n",
       "1   2  0.175681  2135.801498   40.662053    2077.0    2266.0  2140.040496   \n",
       "2   3  0.821891  1989.460683  407.061590       0.0    2333.0  2077.512541   \n",
       "3   4  0.248383  2260.241470  245.998100       0.0    2487.0  2288.523391   \n",
       "4   5  0.644691  1763.690381  849.704201       0.0    2470.0  2197.203558   \n",
       "5   6  0.563936  1902.207135  781.961352       0.0    2361.0  2223.198550   \n",
       "6   7  0.161421  2134.642276   71.981042    2037.0    2302.0  2141.514104   \n",
       "7   8  1.035343  1707.515341  997.615452       0.0    2490.0  2289.244971   \n",
       "8   9  0.421770  2156.589587  604.056918       0.0    2497.0  2332.729571   \n",
       "9  10  0.345560  2243.804143   45.462711    2165.0    2369.0  2246.550173   \n",
       "\n",
       "   lidar_stde    lidar_min    lidar_max  slope_mean  slope_stde  slope_min  \\\n",
       "0   82.296582  2166.324707  2504.042969   22.029696   12.202954   0.428213   \n",
       "1   42.365841  2076.490234  2278.033203   23.682941   11.778531   0.315881   \n",
       "2   99.176830  1867.128174  2356.693848   26.498500   12.037156   0.194537   \n",
       "3   84.211440  2184.033203  2504.429199   28.082177   11.315401   0.638377   \n",
       "4  120.404127  1991.899048  2498.456299   35.282224   13.696657   0.386992   \n",
       "5   72.905938  2006.722900  2380.201172   36.422111   14.509159   0.650331   \n",
       "6   81.062462  2042.756836  2345.838623   34.551187   15.080671   0.634346   \n",
       "7  109.049490  2036.571777  2524.306396   38.570968   12.066723   0.456924   \n",
       "8   70.583675  2180.495361  2522.171875   38.471728   11.450711   1.160249   \n",
       "9   48.058105  2151.812012  2387.518066   31.486673   13.703225   0.064789   \n",
       "\n",
       "   slope_max  \n",
       "0  71.872307  \n",
       "1  59.167454  \n",
       "2  72.767410  \n",
       "3  73.401840  \n",
       "4  77.728111  \n",
       "5  78.509346  \n",
       "6  69.962334  \n",
       "7  74.214958  \n",
       "8  71.810242  \n",
       "9  72.711533  "
      ]
     },
     "execution_count": 36,
     "metadata": {},
     "output_type": "execute_result"
    }
   ],
   "source": [
    "df1.head(10) \n",
    "# df1 # uncomment to see full dataframe"
   ]
  },
  {
   "cell_type": "code",
   "execution_count": 37,
   "metadata": {},
   "outputs": [
    {
     "data": {
      "image/png": "[encoded data removed]",
      "text/plain": [
       "<Figure size 432x288 with 1 Axes>"
      ]
     },
     "metadata": {
      "needs_background": "light"
     },
     "output_type": "display_data"
    }
   ],
   "source": [
    "# plot bar chart of total area of each planation surface\n",
    "%matplotlib inline \n",
    "from matplotlib import pyplot as plt\n",
    "\n",
    "total_area = [np.sum(df1.area),np.sum(df2.area),np.sum(df3.area)]\n",
    "surf_id = ('High', 'Intermediate', 'Low')\n",
    "y_pos = np.arange(len(surf_id))\n",
    "\n",
    "#plan_bar = plt.figure(figsize = (10,6))\n",
    "plt.barh(y_pos, total_area, align='center', alpha=0.5)\n",
    "plt.yticks(y_pos, surf_id)\n",
    "plt.xlabel('Total Area (km2)')\n",
    "plt.title('Planation Surface Areas, Kalkspitze Alps')\n",
    "plt.show()"
   ]
  },
  {
   "cell_type": "code",
   "execution_count": 38,
   "metadata": {},
   "outputs": [
    {
     "data": {
      "text/plain": [
       "Text(0.5, 1.0, '10m LiDAR')"
      ]
     },
     "execution_count": 38,
     "metadata": {},
     "output_type": "execute_result"
    },
    {
     "data": {
      "image/png": "[encoded data removed]",
      "text/plain": [
       "<Figure size 864x720 with 2 Axes>"
      ]
     },
     "metadata": {
      "needs_background": "light"
     },
     "output_type": "display_data"
    }
   ],
   "source": [
    "# plot histograms of planation surface elevation and slope in bins with area as frequency\n",
    "# elevation\n",
    "num_bins = 20\n",
    "\n",
    "# compare srtm and lidar datasets\n",
    "plt.figure(figsize=[12,10])\n",
    "ax1 = plt.subplot(221)\n",
    "n, bins, patches = ax1.hist([df1.srtm_mean,df2.srtm_mean,df3.srtm_mean], bins=num_bins, weights=[df1.area,df2.area, df3.area],color=['yellow', 'orange', 'red'], label=['high', 'intermediate', 'low'])\n",
    "plt.xlabel('Elevation [m]')\n",
    "plt.ylabel('Area [m2]')\n",
    "plt.legend(loc='upper left')\n",
    "plt.title('30m SRTM')\n",
    "\n",
    "\n",
    "ax2 = plt.subplot(222)\n",
    "n, bins, patches = ax2.hist([df1.lidar_mean,df2.lidar_mean,df3.lidar_mean], bins=num_bins, weights=[df1.area,df2.area, df3.area],color=['yellow', 'orange', 'red'], label=['high', 'intermediate', 'low'])\n",
    "plt.xlabel('Elevation [m]')\n",
    "plt.ylabel('Area [m2]')\n",
    "plt.legend(loc='upper left')\n",
    "plt.title('10m LiDAR')"
   ]
  },
  {
   "cell_type": "code",
   "execution_count": 39,
   "metadata": {},
   "outputs": [
    {
     "data": {
      "text/plain": [
       "Text(0.5, 1.0, 'Slope')"
      ]
     },
     "execution_count": 39,
     "metadata": {},
     "output_type": "execute_result"
    },
    {
     "data": {
      "image/png": "[encoded data removed]",
      "text/plain": [
       "<Figure size 864x720 with 2 Axes>"
      ]
     },
     "metadata": {
      "needs_background": "light"
     },
     "output_type": "display_data"
    }
   ],
   "source": [
    "# plot elevations and slopes\n",
    "plt.figure(figsize=[12,10])\n",
    "ax1 = plt.subplot(221)\n",
    "n, bins, patches = ax1.hist([df1.lidar_mean,df2.lidar_mean,df3.lidar_mean], bins=num_bins, weights=[df1.area,df2.area, df3.area],color=['yellow', 'orange', 'red'], label=['high', 'intermediate', 'low'])\n",
    "plt.xlabel('Elevation [m]')\n",
    "plt.ylabel('Area [m2]')\n",
    "plt.legend(loc='upper left')\n",
    "plt.title('Elevation')\n",
    "\n",
    "ax2 = plt.subplot(222)\n",
    "n, bins, patches = ax2.hist([df1.slope_mean,df2.slope_mean,df3.slope_mean], bins=num_bins, weights=[df1.area,df2.area, df3.area],color=['yellow', 'orange', 'red'], label=['high', 'intermediate', 'low'])\n",
    "plt.xlabel('Slope [deg]')\n",
    "plt.ylabel('Area [m2]')\n",
    "plt.legend(loc='upper right')\n",
    "plt.title('Slope')"
   ]
  },
  {
   "cell_type": "code",
   "execution_count": 44,
   "metadata": {},
   "outputs": [
    {
     "data": {
      "text/plain": [
       "Text(0.5, 1.0, 'Slope')"
      ]
     },
     "execution_count": 44,
     "metadata": {},
     "output_type": "execute_result"
    },
    {
     "data": {
      "image/png": "[encoded data removed]",
      "text/plain": [
       "<Figure size 864x720 with 2 Axes>"
      ]
     },
     "metadata": {
      "needs_background": "light"
     },
     "output_type": "display_data"
    }
   ],
   "source": [
    "# define dertnig base level to be around 800m asl\n",
    "base_dertnig = 800\n",
    "\n",
    "# subtract base level from elevation values to get height above base level and plot\n",
    "df1[\"elev_baselvl\"] = df1.lidar_mean-base_dertnig\n",
    "df2[\"elev_baselvl\"] = df2.lidar_mean-base_dertnig\n",
    "df3[\"elev_baselvl\"] = df3.lidar_mean-base_dertnig\n",
    "\n",
    "# plot data\n",
    "plt.figure(figsize=[12,10])\n",
    "ax1 = plt.subplot(221)\n",
    "n, bins, patches = ax1.hist([df1.elev_baselvl,df2.elev_baselvl,df3.elev_baselvl], bins=num_bins, weights=[df1.area,df2.area, df3.area],color=['yellow', 'orange', 'red'], label=['high', 'intermediate', 'low'])\n",
    "plt.xlabel('Elevation [m]')\n",
    "plt.ylabel('Area [m2]')\n",
    "plt.legend(loc='upper left')\n",
    "plt.title('Elevation above regional base level')\n",
    "\n",
    "ax2 = plt.subplot(222)\n",
    "n, bins, patches = ax2.hist([df1.slope_mean,df2.slope_mean,df3.slope_mean], bins=num_bins, weights=[df1.area,df2.area, df3.area],color=['yellow', 'orange', 'red'], label=['high', 'intermediate', 'low'])\n",
    "plt.xlabel('Slope [deg]')\n",
    "plt.ylabel('Area [m2]')\n",
    "plt.legend(loc='upper right')\n",
    "plt.title('Slope')"
   ]
  },
  {
   "cell_type": "code",
   "execution_count": null,
   "metadata": {},
   "outputs": [],
   "source": []
  }
 ],
 "metadata": {
  "kernelspec": {
   "display_name": "Python 3",
   "language": "python",
   "name": "python3"
  },
  "language_info": {
   "codemirror_mode": {
    "name": "ipython",
    "version": 3
   },
   "file_extension": ".py",
   "mimetype": "text/x-python",
   "name": "python",
   "nbconvert_exporter": "python",
   "pygments_lexer": "ipython3",
   "version": "3.6.6"
  }
 },
 "nbformat": 4,
 "nbformat_minor": 2
}
